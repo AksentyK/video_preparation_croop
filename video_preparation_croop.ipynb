{
  "cells": [
    {
      "cell_type": "code",
      "execution_count": null,
      "metadata": {
        "colab": {
          "base_uri": "https://localhost:8080/"
        },
        "id": "ZRlVn3V-ORJe",
        "outputId": "b22362a3-de6b-4612-9a01-747e95fde0f8"
      },
      "outputs": [
        {
          "output_type": "stream",
          "name": "stdout",
          "text": [
            "Collecting mediapipe\n",
            "  Downloading mediapipe-0.10.3-cp310-cp310-manylinux_2_17_x86_64.manylinux2014_x86_64.whl (33.5 MB)\n",
            "\u001b[2K     \u001b[90m━━━━━━━━━━━━━━━━━━━━━━━━━━━━━━━━━━━━━━━━\u001b[0m \u001b[32m33.5/33.5 MB\u001b[0m \u001b[31m39.2 MB/s\u001b[0m eta \u001b[36m0:00:00\u001b[0m\n",
            "\u001b[?25hRequirement already satisfied: absl-py in /usr/local/lib/python3.10/dist-packages (from mediapipe) (1.4.0)\n",
            "Requirement already satisfied: attrs>=19.1.0 in /usr/local/lib/python3.10/dist-packages (from mediapipe) (23.1.0)\n",
            "Requirement already satisfied: flatbuffers>=2.0 in /usr/local/lib/python3.10/dist-packages (from mediapipe) (23.5.26)\n",
            "Requirement already satisfied: matplotlib in /usr/local/lib/python3.10/dist-packages (from mediapipe) (3.7.1)\n",
            "Requirement already satisfied: numpy in /usr/local/lib/python3.10/dist-packages (from mediapipe) (1.23.5)\n",
            "Requirement already satisfied: opencv-contrib-python in /usr/local/lib/python3.10/dist-packages (from mediapipe) (4.8.0.76)\n",
            "Requirement already satisfied: protobuf<4,>=3.11 in /usr/local/lib/python3.10/dist-packages (from mediapipe) (3.20.3)\n",
            "Collecting sounddevice>=0.4.4 (from mediapipe)\n",
            "  Downloading sounddevice-0.4.6-py3-none-any.whl (31 kB)\n",
            "Requirement already satisfied: CFFI>=1.0 in /usr/local/lib/python3.10/dist-packages (from sounddevice>=0.4.4->mediapipe) (1.15.1)\n",
            "Requirement already satisfied: contourpy>=1.0.1 in /usr/local/lib/python3.10/dist-packages (from matplotlib->mediapipe) (1.1.0)\n",
            "Requirement already satisfied: cycler>=0.10 in /usr/local/lib/python3.10/dist-packages (from matplotlib->mediapipe) (0.11.0)\n",
            "Requirement already satisfied: fonttools>=4.22.0 in /usr/local/lib/python3.10/dist-packages (from matplotlib->mediapipe) (4.42.1)\n",
            "Requirement already satisfied: kiwisolver>=1.0.1 in /usr/local/lib/python3.10/dist-packages (from matplotlib->mediapipe) (1.4.4)\n",
            "Requirement already satisfied: packaging>=20.0 in /usr/local/lib/python3.10/dist-packages (from matplotlib->mediapipe) (23.1)\n",
            "Requirement already satisfied: pillow>=6.2.0 in /usr/local/lib/python3.10/dist-packages (from matplotlib->mediapipe) (9.4.0)\n",
            "Requirement already satisfied: pyparsing>=2.3.1 in /usr/local/lib/python3.10/dist-packages (from matplotlib->mediapipe) (3.1.1)\n",
            "Requirement already satisfied: python-dateutil>=2.7 in /usr/local/lib/python3.10/dist-packages (from matplotlib->mediapipe) (2.8.2)\n",
            "Requirement already satisfied: pycparser in /usr/local/lib/python3.10/dist-packages (from CFFI>=1.0->sounddevice>=0.4.4->mediapipe) (2.21)\n",
            "Requirement already satisfied: six>=1.5 in /usr/local/lib/python3.10/dist-packages (from python-dateutil>=2.7->matplotlib->mediapipe) (1.16.0)\n",
            "Installing collected packages: sounddevice, mediapipe\n",
            "Successfully installed mediapipe-0.10.3 sounddevice-0.4.6\n"
          ]
        }
      ],
      "source": [
        "!pip install mediapipe"
      ]
    },
    {
      "cell_type": "code",
      "execution_count": null,
      "metadata": {
        "id": "PuJMrlWFMT37"
      },
      "outputs": [],
      "source": [
        "import os\n",
        "import cv2\n",
        "from google.colab.patches import cv2_imshow\n",
        "import mediapipe as mp\n",
        "import time\n",
        "from moviepy.editor import VideoFileClip\n",
        "from google.colab import drive"
      ]
    },
    {
      "cell_type": "code",
      "execution_count": null,
      "metadata": {
        "colab": {
          "base_uri": "https://localhost:8080/"
        },
        "id": "zqPpWB4lP1_l",
        "outputId": "7a43b923-8852-442a-ee57-bf5c31872ddd"
      },
      "outputs": [
        {
          "output_type": "stream",
          "name": "stdout",
          "text": [
            "Mounted at /content/drive\n"
          ]
        }
      ],
      "source": [
        "# Монтирование Google Диска\n",
        "drive.mount('/content/drive')"
      ]
    },
    {
      "cell_type": "code",
      "execution_count": null,
      "metadata": {
        "id": "Dsyu_eS6o7CK"
      },
      "outputs": [],
      "source": [
        "# Создание директории для сохранения обрезанных кадров\n",
        "output_folder = '/content/output_frames'\n",
        "os.makedirs(output_folder, exist_ok=True)"
      ]
    },
    {
      "cell_type": "code",
      "execution_count": null,
      "metadata": {
        "id": "UPtduHyLMkEN"
      },
      "outputs": [],
      "source": [
        "# Инициализация объекта для обнаружения позы\n",
        "mp_pose = mp.solutions.pose\n",
        "pose = mp_pose.Pose(static_image_mode=False, min_detection_confidence=0.5, min_tracking_confidence=0.5)"
      ]
    },
    {
      "cell_type": "code",
      "execution_count": null,
      "metadata": {
        "id": "89lEi1JxMm0f"
      },
      "outputs": [],
      "source": [
        "# Загрузка видео\n",
        "video_path = \"/content/drive/MyDrive/Караеэномичи/right/gedan_barai_right/gedan_barai_right_front_view/Andrey_gedan_barai_front_view.mp4\"\n",
        "cap = cv2.VideoCapture(video_path)\n",
        "#cap = cv2.VideoWriter(video_path, cv2.VideoWriter_fourcc(*'mp4v'), 30, (640, 480), isColor=True)"
      ]
    },
    {
      "cell_type": "code",
      "execution_count": null,
      "metadata": {
        "id": "SbQlEy4AMpWN"
      },
      "outputs": [],
      "source": [
        "# Проверка успешности загрузки видео\n",
        "if not cap.isOpened():\n",
        "    print(\"Ошибка при загрузке видео\")\n",
        "    exit()"
      ]
    },
    {
      "cell_type": "code",
      "execution_count": null,
      "metadata": {
        "id": "7fkMYN8KtAmr"
      },
      "outputs": [],
      "source": [
        "# Пустой список для обрезанных кадров\n",
        "cropped_frames = []"
      ]
    },
    {
      "cell_type": "code",
      "execution_count": null,
      "metadata": {
        "colab": {
          "base_uri": "https://localhost:8080/"
        },
        "id": "l4cKqz18MurP",
        "outputId": "f2379667-de99-4af3-ce70-0f15dee70379"
      },
      "outputs": [
        {
          "output_type": "stream",
          "name": "stdout",
          "text": [
            "Номер кадра: 0\n",
            "Время обработки кадра: 0.23311328887939453\n",
            "Номер кадра: 1\n",
            "Время обработки кадра: 0.3198988437652588\n",
            "Номер кадра: 2\n",
            "Время обработки кадра: 0.3957366943359375\n",
            "Номер кадра: 3\n",
            "Время обработки кадра: 0.46939969062805176\n",
            "Номер кадра: 4\n",
            "Время обработки кадра: 0.5487794876098633\n",
            "Номер кадра: 5\n",
            "Время обработки кадра: 0.6275973320007324\n",
            "Номер кадра: 6\n",
            "Время обработки кадра: 0.715383768081665\n",
            "Номер кадра: 7\n",
            "Время обработки кадра: 0.8017120361328125\n",
            "Номер кадра: 8\n",
            "Время обработки кадра: 0.8962078094482422\n",
            "Номер кадра: 9\n",
            "Время обработки кадра: 0.9563548564910889\n",
            "Номер кадра: 10\n",
            "Время обработки кадра: 1.0140085220336914\n",
            "Номер кадра: 11\n",
            "Время обработки кадра: 1.12125563621521\n",
            "Номер кадра: 12\n",
            "Время обработки кадра: 1.191826581954956\n",
            "Номер кадра: 13\n",
            "Время обработки кадра: 1.252460241317749\n",
            "Номер кадра: 14\n",
            "Время обработки кадра: 1.3847763538360596\n",
            "Номер кадра: 15\n",
            "Время обработки кадра: 1.5130188465118408\n",
            "Номер кадра: 16\n",
            "Время обработки кадра: 1.6624927520751953\n",
            "Номер кадра: 17\n",
            "Время обработки кадра: 1.7871580123901367\n",
            "Номер кадра: 18\n",
            "Время обработки кадра: 1.917891025543213\n",
            "Номер кадра: 19\n",
            "Время обработки кадра: 2.055067777633667\n",
            "Номер кадра: 20\n",
            "Время обработки кадра: 2.1164779663085938\n",
            "Номер кадра: 21\n",
            "Время обработки кадра: 2.2737207412719727\n",
            "Номер кадра: 22\n",
            "Время обработки кадра: 2.4155776500701904\n",
            "Номер кадра: 23\n",
            "Время обработки кадра: 2.4727513790130615\n",
            "Номер кадра: 24\n",
            "Время обработки кадра: 2.6305606365203857\n",
            "Номер кадра: 25\n",
            "Время обработки кадра: 2.791092872619629\n",
            "Номер кадра: 26\n",
            "Время обработки кадра: 2.957538604736328\n",
            "Номер кадра: 27\n",
            "Время обработки кадра: 3.124157190322876\n",
            "Номер кадра: 28\n",
            "Время обработки кадра: 3.307966947555542\n",
            "Номер кадра: 29\n",
            "Время обработки кадра: 3.4944381713867188\n",
            "Номер кадра: 30\n",
            "Время обработки кадра: 3.6685895919799805\n",
            "Номер кадра: 31\n",
            "Время обработки кадра: 3.8494458198547363\n",
            "Номер кадра: 32\n",
            "Время обработки кадра: 3.907034397125244\n",
            "Номер кадра: 33\n",
            "Время обработки кадра: 4.096266269683838\n",
            "Номер кадра: 34\n",
            "Время обработки кадра: 4.3121912479400635\n",
            "Номер кадра: 35\n",
            "Время обработки кадра: 4.510523319244385\n",
            "Номер кадра: 36\n",
            "Время обработки кадра: 4.71303391456604\n",
            "Номер кадра: 37\n",
            "Время обработки кадра: 4.769744634628296\n",
            "Номер кадра: 38\n",
            "Время обработки кадра: 4.984517335891724\n",
            "Номер кадра: 39\n",
            "Время обработки кадра: 5.192601680755615\n",
            "Номер кадра: 40\n",
            "Время обработки кадра: 5.249405384063721\n",
            "Номер кадра: 41\n",
            "Время обработки кадра: 5.317692041397095\n",
            "Номер кадра: 42\n",
            "Время обработки кадра: 5.537725925445557\n",
            "Номер кадра: 43\n",
            "Время обработки кадра: 5.761406898498535\n",
            "Номер кадра: 44\n",
            "Время обработки кадра: 5.992786169052124\n",
            "Номер кадра: 45\n",
            "Время обработки кадра: 6.222212076187134\n",
            "Номер кадра: 46\n",
            "Время обработки кадра: 6.475330591201782\n",
            "Номер кадра: 47\n",
            "Время обработки кадра: 6.712015151977539\n",
            "Номер кадра: 48\n",
            "Время обработки кадра: 6.959001779556274\n",
            "Номер кадра: 49\n",
            "Время обработки кадра: 7.227550506591797\n",
            "Номер кадра: 50\n",
            "Время обработки кадра: 7.586765766143799\n",
            "Номер кадра: 51\n",
            "Время обработки кадра: 7.952000141143799\n",
            "Номер кадра: 52\n",
            "Время обработки кадра: 8.352904319763184\n",
            "Номер кадра: 53\n",
            "Время обработки кадра: 8.76071834564209\n",
            "Номер кадра: 54\n",
            "Время обработки кадра: 9.169918537139893\n",
            "Номер кадра: 55\n",
            "Время обработки кадра: 9.592697858810425\n",
            "Номер кадра: 56\n",
            "Время обработки кадра: 10.028814315795898\n",
            "Номер кадра: 57\n",
            "Время обработки кадра: 10.472054481506348\n",
            "Номер кадра: 58\n",
            "Время обработки кадра: 10.932704210281372\n",
            "Номер кадра: 59\n",
            "Время обработки кадра: 11.440311670303345\n",
            "Номер кадра: 60\n",
            "Время обработки кадра: 11.866391897201538\n",
            "Номер кадра: 61\n",
            "Время обработки кадра: 12.344413757324219\n",
            "Номер кадра: 62\n",
            "Время обработки кадра: 12.677162885665894\n",
            "Номер кадра: 63\n",
            "Время обработки кадра: 12.972301244735718\n",
            "Номер кадра: 64\n",
            "Время обработки кадра: 13.281118154525757\n",
            "Номер кадра: 65\n",
            "Время обработки кадра: 13.579412698745728\n",
            "Номер кадра: 66\n",
            "Время обработки кадра: 13.887558698654175\n",
            "Номер кадра: 67\n",
            "Время обработки кадра: 14.19224762916565\n",
            "Номер кадра: 68\n",
            "Время обработки кадра: 14.484740257263184\n",
            "Номер кадра: 69\n",
            "Время обработки кадра: 14.54254412651062\n",
            "Номер кадра: 70\n",
            "Время обработки кадра: 14.86580514907837\n",
            "Номер кадра: 71\n",
            "Время обработки кадра: 15.181044816970825\n",
            "Номер кадра: 72\n",
            "Время обработки кадра: 15.240905523300171\n",
            "Номер кадра: 73\n",
            "Время обработки кадра: 15.561803817749023\n",
            "Номер кадра: 74\n",
            "Время обработки кадра: 15.90628981590271\n",
            "Номер кадра: 75\n",
            "Время обработки кадра: 16.252758502960205\n",
            "Номер кадра: 76\n",
            "Время обработки кадра: 16.611283540725708\n",
            "Номер кадра: 77\n",
            "Время обработки кадра: 16.974956512451172\n",
            "Номер кадра: 78\n",
            "Время обработки кадра: 17.347359895706177\n",
            "Номер кадра: 79\n",
            "Время обработки кадра: 17.72851586341858\n",
            "Номер кадра: 80\n",
            "Время обработки кадра: 18.1083505153656\n",
            "Номер кадра: 81\n",
            "Время обработки кадра: 18.485068559646606\n",
            "Номер кадра: 82\n",
            "Время обработки кадра: 18.89144206047058\n",
            "Номер кадра: 83\n",
            "Время обработки кадра: 19.477546453475952\n",
            "Номер кадра: 84\n",
            "Время обработки кадра: 20.024927377700806\n",
            "Номер кадра: 85\n",
            "Время обработки кадра: 20.407126665115356\n",
            "Номер кадра: 86\n",
            "Время обработки кадра: 20.801690101623535\n",
            "Номер кадра: 87\n",
            "Время обработки кадра: 21.238293409347534\n",
            "Номер кадра: 88\n",
            "Время обработки кадра: 21.6523916721344\n",
            "Номер кадра: 89\n",
            "Время обработки кадра: 22.09481120109558\n",
            "Номер кадра: 90\n",
            "Время обработки кадра: 22.536773443222046\n",
            "Номер кадра: 91\n",
            "Время обработки кадра: 23.163710355758667\n",
            "Номер кадра: 92\n",
            "Время обработки кадра: 23.803332567214966\n",
            "Номер кадра: 93\n",
            "Время обработки кадра: 24.46788239479065\n",
            "Номер кадра: 94\n",
            "Время обработки кадра: 25.141411304473877\n",
            "Номер кадра: 95\n",
            "Время обработки кадра: 25.82089853286743\n",
            "Номер кадра: 96\n",
            "Время обработки кадра: 26.462352514266968\n",
            "Номер кадра: 97\n",
            "Время обработки кадра: 26.558173656463623\n",
            "Номер кадра: 98\n",
            "Время обработки кадра: 27.24350881576538\n",
            "Номер кадра: 99\n",
            "Время обработки кадра: 27.7923002243042\n"
          ]
        }
      ],
      "source": [
        "'''# Обработка каждого кадра видео\n",
        "while cap.isOpened():\n",
        "    ret, frame = cap.read()\n",
        "    if not ret:\n",
        "        break'''\n",
        "\n",
        "# Чтение первых 100 кадров из видео\n",
        "frame_count = 0\n",
        "start_time = time.time()\n",
        "while frame_count < 25:\n",
        "    ret, frame = cap.read()\n",
        "    if not ret:\n",
        "        break\n",
        "\n",
        "    # Преобразование кадра в RGB\n",
        "    frame_rgb = cv2.cvtColor(frame, cv2.COLOR_BGR2RGB)\n",
        "\n",
        "    # Обнаружение позы на кадре\n",
        "    results = pose.process(frame_rgb)\n",
        "\n",
        "    # Получение координат позы человека\n",
        "    if results.pose_landmarks:\n",
        "        pose_landmarks = results.pose_landmarks.landmark\n",
        "\n",
        "        # Получение координат ключевых точек позы\n",
        "        keypoints = [[lm.x * frame.shape[1], lm.y * frame.shape[0]] for lm in pose_landmarks]\n",
        "\n",
        "        # Нахождение крайних точек позы\n",
        "        min_x = int(min(keypoints, key=lambda x: x[0])[0]) - 50  # Увеличение области обрезки\n",
        "        max_x = int(max(keypoints, key=lambda x: x[0])[0]) + 50  # Увеличение области обрезки\n",
        "        min_y = int(min(keypoints, key=lambda x: x[1])[1]) - 50  # Увеличение области обрезки\n",
        "        max_y = int(max(keypoints, key=lambda x: x[1])[1]) + 50  # Увеличение области обрезки\n",
        "\n",
        "        # Проверка границ области обрезки\n",
        "        min_x = max(min_x, 0)\n",
        "        max_x = min(max_x, frame.shape[1])\n",
        "        min_y = max(min_y, 0)\n",
        "        max_y = min(max_y, frame.shape[0])\n",
        "\n",
        "        # Обрезка кадра вокруг позы человека\n",
        "        #cropped_frame = frame[min_y:max_y, min_x:max_x]\n",
        "\n",
        "        # Находим текущие ширину и высоту обрезанного кадра:\n",
        "        cropped_height = max_y - min_y\n",
        "        cropped_width = max_x - min_x\n",
        "\n",
        "        # Вычислите максимальное значение из `cropped_height` и `cropped_width`:\n",
        "        max_cropped_size = max(cropped_height, cropped_width)\n",
        "\n",
        "        # Вычислите разницу между `max_cropped_size` и `cropped_height`/`cropped_width`:\n",
        "        diff_height = max_cropped_size - cropped_height\n",
        "        diff_width = max_cropped_size - cropped_width\n",
        "\n",
        "        # Измените границы области обрезки, добавив половину разницы к каждой стороне:\n",
        "        min_x -= diff_width // 2\n",
        "        max_x += diff_width // 2\n",
        "        min_y -= diff_height // 2\n",
        "        max_y += diff_height // 2\n",
        "\n",
        "        # Проверяем границы области обрезки, чтобы они не выходили за пределы кадра:\n",
        "        min_x = max(min_x, 0)\n",
        "        max_x = min(max_x, frame.shape[1])\n",
        "        min_y = max(min_y, 0)\n",
        "        max_y = min(max_y, frame.shape[0])\n",
        "\n",
        "        # Обрезаем кадр с использованием обновленных границ:\n",
        "        cropped_frame = frame[min_y:max_y, min_x:max_x]\n",
        "\n",
        "        # Определение размера текущего обрезанного кадра\n",
        "        cropped_height, cropped_width, _ = cropped_frame.shape\n",
        "\n",
        "        # Нахождение самого большого кадра\n",
        "        if cropped_height * cropped_width > max_cropped_size:\n",
        "           max_cropped_size = cropped_height * cropped_width\n",
        "           max_cropped_frame = cropped_frame\n",
        "\n",
        "    for frame in cropped_frames:\n",
        "            cropped_height, cropped_width, _ = frame.shape[:3]\n",
        "    if cropped_height * cropped_width < max_cropped_size:\n",
        "            min_cropped_size = cropped_height * cropped_width\n",
        "            min_cropped_frame = frame\n",
        "\n",
        "        # Добавление обрезанного кадра в список cropped_frames\n",
        "    cropped_frames.append(cropped_frame)\n",
        "\n",
        "    # Закрытие окна обрезанного кадра\n",
        "    cv2.destroyAllWindows()\n",
        "\n",
        "    # Изменение размера остальных кадров на больше\n",
        "    for i, frame in enumerate(cropped_frames):\n",
        "        if frame.shape != max_cropped_frame.shape:\n",
        "           resized_frame = cv2.resize(frame, (max_cropped_frame.shape[1], max_cropped_frame.shape[0]), interpolation=cv2.INTER_LINEAR_EXACT)\n",
        "           cropped_frames[i] = resized_frame\n",
        "\n",
        "    # Дорисовка контура на кадрах, которые меньше по размеру\n",
        "    for i, frame in enumerate(cropped_frames):\n",
        "        if frame.shape[0] < max_cropped_frame.shape[0] or frame.shape[1] < max_cropped_frame.shape[1]:\n",
        "           contour = np.array([[0, 0], [frame.shape[1], 0], [frame.shape[1], frame.shape[0]], [0, frame.shape[0]]])\n",
        "           cv2.drawContours(frame, [contour], -1, (0, 0, 0), thickness=2)\n",
        "           cropped_frames[i] = frame\n",
        "\n",
        "        # Отображение обрезанного кадра\n",
        "        cv2_imshow(cropped_frame)\n",
        "\n",
        "    # Вывод номера кадра\n",
        "    print(\"Номер кадра:\", frame_count)\n",
        "\n",
        "    # Время обработки каждого кадра\n",
        "    frame_time = time.time() - start_time\n",
        "    print(\"Время обработки кадра:\", frame_time)\n",
        "\n",
        "    frame_count += 1"
      ]
    },
    {
      "cell_type": "code",
      "execution_count": null,
      "metadata": {
        "id": "nt1eT5u5NlNO",
        "colab": {
          "base_uri": "https://localhost:8080/"
        },
        "outputId": "0b86ef8b-7bcc-4e0f-ab37-bd1c2d247d48"
      },
      "outputs": [
        {
          "output_type": "stream",
          "name": "stdout",
          "text": [
            "Общее время обработки: 27.805639505386353\n"
          ]
        }
      ],
      "source": [
        "# Общее время обработки\n",
        "total_time = time.time() - start_time\n",
        "print(\"Общее время обработки:\", total_time)"
      ]
    },
    {
      "cell_type": "code",
      "execution_count": null,
      "metadata": {
        "id": "kpbeWxa0IAZD",
        "colab": {
          "base_uri": "https://localhost:8080/"
        },
        "outputId": "675795af-346e-4c72-ecb6-7fc9327fd8fa"
      },
      "outputs": [
        {
          "output_type": "stream",
          "name": "stdout",
          "text": [
            "Кадры сохранены в директории: /content/cropped_frames\n"
          ]
        }
      ],
      "source": [
        "# Создание директории для сохранения кадров (если она не существует)\n",
        "output_directory = \"/content/cropped_frames\"\n",
        "if not os.path.exists(output_directory):\n",
        "    os.makedirs(output_directory)\n",
        "\n",
        "# Сохранение каждого кадра в директории\n",
        "for i, frame in enumerate(cropped_frames):\n",
        "    frame_path = os.path.join(output_directory, f\"frame_{i}.jpg\")  # Путь кадра\n",
        "    # меняем размер кадра до 120х120пх\n",
        "    resized_frame = cv2.resize(frame, (120, 120))\n",
        "\n",
        "    #cv2.imwrite(frame_path, frame)\n",
        "\n",
        "    # Сохраните измененный кадр с нужным качеством\n",
        "    cv2.imwrite(frame_path, frame, [cv2.IMWRITE_JPEG_QUALITY, 100])\n",
        "\n",
        "print(\"Кадры сохранены в директории:\", output_directory)\n"
      ]
    },
    {
      "cell_type": "code",
      "execution_count": null,
      "metadata": {
        "id": "o0ammzWUIucA",
        "colab": {
          "base_uri": "https://localhost:8080/",
          "height": 35
        },
        "outputId": "07c36a73-462f-4809-cbf2-150c8554c385"
      },
      "outputs": [
        {
          "output_type": "execute_result",
          "data": {
            "text/plain": [
              "'video = Video(output_video_path, embed=True)\\nvideo'"
            ],
            "application/vnd.google.colaboratory.intrinsic+json": {
              "type": "string"
            }
          },
          "metadata": {},
          "execution_count": 12
        }
      ],
      "source": [
        "# Путь к директории с кадрами\n",
        "frames_directory = \"/content/cropped_frames\"\n",
        "\n",
        "# Получение списка файлов кадров\n",
        "frame_files = sorted(os.listdir(frames_directory))\n",
        "\n",
        "# Получение первого кадра для определения размеров видео\n",
        "first_frame_path = os.path.join(frames_directory, frame_files[0])\n",
        "first_frame = cv2.imread(first_frame_path)\n",
        "height, width, _ = first_frame.shape\n",
        "\n",
        "# Задание новых размеров видео\n",
        "new_width, new_height = 100, 100\n",
        "\n",
        "# Путь и имя видеофайла для сохранения\n",
        "output_video_path = \"/content/output_video.mp4\"\n",
        "\n",
        "# Создание объекта для записи видео\n",
        "out = cv2.VideoWriter(output_video_path, cv2.VideoWriter_fourcc(*\"mp4v\"), 30.0, (width, height))\n",
        "\n",
        "# Сохранение обработанного видео в хорошем качестве\n",
        "#out = cv2.VideoWriter(output_video_path, cv2.VideoWriter_fourcc(*'mp4v'), 30, (640, 480))\n",
        "\n",
        "\n",
        "# Запись каждого кадра в видео\n",
        "for frame_file in frame_files:\n",
        "    frame_path = os.path.join(frames_directory, frame_file)\n",
        "    frame = cv2.imread(frame_path)\n",
        "    out.write(frame)\n",
        "\n",
        "# Закрытие записи видео\n",
        "out.release()\n",
        "\n",
        "# Отображение видео в Colab\n",
        "'''video = Video(output_video_path, embed=True)\n",
        "video'''\n"
      ]
    },
    {
      "cell_type": "code",
      "execution_count": null,
      "metadata": {
        "id": "-hWW2RJmtszX"
      },
      "outputs": [],
      "source": [
        "# Добавление обрезанного кадра в список cropped_frames\n",
        "cropped_frames.append(cropped_frame)\n"
      ]
    },
    {
      "cell_type": "code",
      "execution_count": null,
      "metadata": {
        "id": "rMdR8GucmFoi"
      },
      "outputs": [],
      "source": [
        "# Запись обработанных кадров в видео\n",
        "while True:\n",
        "    ret, frame = cap.read()\n",
        "\n",
        "    if not ret:\n",
        "        break"
      ]
    },
    {
      "cell_type": "code",
      "execution_count": null,
      "metadata": {
        "id": "R4Znd4VO4y6Y"
      },
      "outputs": [],
      "source": [
        "# Путь и имя видеофайла\n",
        "output_video_path = \"output_video_path\""
      ]
    },
    {
      "cell_type": "code",
      "execution_count": null,
      "metadata": {
        "id": "revmHi9-5Mj4",
        "colab": {
          "base_uri": "https://localhost:8080/"
        },
        "outputId": "a03e5afd-7a23-4d09-fb40-3dd58fcbf76c"
      },
      "outputs": [
        {
          "output_type": "stream",
          "name": "stdout",
          "text": [
            "Видео сохранено по пути: output_video_path\n"
          ]
        }
      ],
      "source": [
        "print(\"Видео сохранено по пути:\", output_video_path)\n"
      ]
    }
  ],
  "metadata": {
    "colab": {
      "provenance": []
    },
    "kernelspec": {
      "display_name": "Python 3",
      "name": "python3"
    },
    "language_info": {
      "name": "python"
    }
  },
  "nbformat": 4,
  "nbformat_minor": 0
}